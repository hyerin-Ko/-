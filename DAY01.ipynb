{
  "nbformat": 4,
  "nbformat_minor": 0,
  "metadata": {
    "colab": {
      "name": "DAY01.ipynb",
      "provenance": [],
      "collapsed_sections": [],
      "toc_visible": true,
      "authorship_tag": "ABX9TyNNt6gk9MDPDkPTTZG/rc26",
      "include_colab_link": true
    },
    "kernelspec": {
      "name": "python3",
      "display_name": "Python 3"
    },
    "language_info": {
      "name": "python"
    }
  },
  "cells": [
    {
      "cell_type": "markdown",
      "metadata": {
        "id": "view-in-github",
        "colab_type": "text"
      },
      "source": [
        "<a href=\"https://colab.research.google.com/github/hyerin-Ko/-/blob/main/DAY01.ipynb\" target=\"_parent\"><img src=\"https://colab.research.google.com/assets/colab-badge.svg\" alt=\"Open In Colab\"/></a>"
      ]
    },
    {
      "cell_type": "code",
      "source": [
        "n=5\n",
        "print(n)\n",
        "print(n)\n",
        "n=10\n",
        "print(n)"
      ],
      "metadata": {
        "colab": {
          "base_uri": "https://localhost:8080/"
        },
        "id": "bu-MPQM5R22L",
        "outputId": "91564822-8f80-45d2-c90c-c446f96f5a4f"
      },
      "execution_count": null,
      "outputs": [
        {
          "output_type": "stream",
          "name": "stdout",
          "text": [
            "5\n",
            "5\n",
            "10\n"
          ]
        }
      ]
    },
    {
      "cell_type": "code",
      "source": [
        "n=15  \n",
        "print(n)\n",
        "print(type(n))\n",
        "\n",
        "m=int(20.5) # <-- type casting\n",
        "print(m)\n",
        "print(type(n))\n"
      ],
      "metadata": {
        "colab": {
          "base_uri": "https://localhost:8080/"
        },
        "id": "9-2aP1bvSbr4",
        "outputId": "f5672097-69d9-4d34-fd74-8ccb49a977f9"
      },
      "execution_count": null,
      "outputs": [
        {
          "output_type": "stream",
          "name": "stdout",
          "text": [
            "15\n",
            "<class 'int'>\n",
            "20\n",
            "<class 'int'>\n"
          ]
        }
      ]
    },
    {
      "cell_type": "code",
      "source": [
        "n=15.5\n",
        "print(n)\n",
        "print(type(n))\n",
        "\n",
        "m=float(20)\n",
        "print(m)\n",
        "print(type(m))  # <-- float\n"
      ],
      "metadata": {
        "colab": {
          "base_uri": "https://localhost:8080/"
        },
        "id": "PIPxR6yiSpVK",
        "outputId": "c193614b-770e-432b-cb43-bdc585b65bc5"
      },
      "execution_count": null,
      "outputs": [
        {
          "output_type": "stream",
          "name": "stdout",
          "text": [
            "15.5\n",
            "<class 'float'>\n",
            "20.0\n",
            "<class 'float'>\n"
          ]
        }
      ]
    },
    {
      "cell_type": "code",
      "source": [
        "n='15.5'\n",
        "print(n)\n",
        "print(type(n))\n",
        "\n",
        "m=str(20.5)\n",
        "print(m)\n",
        "print(type(m))"
      ],
      "metadata": {
        "colab": {
          "base_uri": "https://localhost:8080/"
        },
        "id": "Ugc6_3VaTGLO",
        "outputId": "35939692-326f-4b50-a24e-b464e37bbf59"
      },
      "execution_count": null,
      "outputs": [
        {
          "output_type": "stream",
          "name": "stdout",
          "text": [
            "15.5\n",
            "<class 'str'>\n",
            "20.5\n",
            "<class 'str'>\n"
          ]
        }
      ]
    },
    {
      "cell_type": "code",
      "source": [
        "# bool (Boolean) : True / False , 1 / 0\n",
        "\n",
        "n= False\n",
        "print(n)\n",
        "print(type(n))\n",
        "\n",
        "m=bool(123)\n",
        "print(m)\n",
        "print(type(m))"
      ],
      "metadata": {
        "colab": {
          "base_uri": "https://localhost:8080/"
        },
        "id": "FWDW1e5uR9X6",
        "outputId": "da5178a3-7a50-4964-93ad-9b7afbf3789c"
      },
      "execution_count": null,
      "outputs": [
        {
          "output_type": "stream",
          "name": "stdout",
          "text": [
            "False\n",
            "<class 'bool'>\n",
            "True\n",
            "<class 'bool'>\n"
          ]
        }
      ]
    },
    {
      "cell_type": "code",
      "source": [
        "#사칙연산\n",
        "n=3\n",
        "m=7\n",
        "print(n+m)\n",
        "print(n-m)\n",
        "print(n*m)\n",
        "print(m/n)\n",
        "print(m%n) # 7/3 나머지\n",
        "\n",
        "print(n**2)\n",
        "print(m//n) #몫만 보여줌"
      ],
      "metadata": {
        "colab": {
          "base_uri": "https://localhost:8080/"
        },
        "id": "9bK7prh5TkPU",
        "outputId": "a6b03637-cd27-4ca9-cf7f-f7819502c0bf"
      },
      "execution_count": null,
      "outputs": [
        {
          "output_type": "stream",
          "name": "stdout",
          "text": [
            "10\n",
            "-4\n",
            "21\n",
            "2.3333333333333335\n",
            "1\n",
            "9\n",
            "2\n"
          ]
        }
      ]
    },
    {
      "cell_type": "code",
      "source": [
        "#List\n",
        "n=[1,2,2,3,4,5]\n",
        "print(n)\n",
        "print(type(n))\n",
        "\n",
        "#method / 함수 \n",
        "n.append(2)\n",
        "print(n)\n",
        "print(n.count(2))\n",
        "n.sort()\n",
        "print(n)\n",
        "n.clear()\n",
        "print(n)\n"
      ],
      "metadata": {
        "colab": {
          "base_uri": "https://localhost:8080/"
        },
        "id": "VzLuFPXXWbqa",
        "outputId": "2577880c-d13d-416e-bafe-0d813f61bdf5"
      },
      "execution_count": null,
      "outputs": [
        {
          "output_type": "stream",
          "name": "stdout",
          "text": [
            "[1, 2, 2, 3, 4, 5]\n",
            "<class 'list'>\n",
            "[1, 2, 2, 3, 4, 5, 2]\n",
            "3\n",
            "[1, 2, 2, 2, 3, 4, 5]\n",
            "[]\n"
          ]
        }
      ]
    },
    {
      "cell_type": "code",
      "source": [
        "# tuple (리스트하고 같지만 완성하면 중간에 숫자 못넣음)\n",
        "n=(10,20,30,20,40,50)\n",
        "print(n)\n",
        "print(type(n))\n",
        "\n",
        "n.index(20)\n",
        "n.index(20 , 2) # 2번째부터 20의 위치"
      ],
      "metadata": {
        "colab": {
          "base_uri": "https://localhost:8080/"
        },
        "id": "npB_GtCmX1Ou",
        "outputId": "6b857cff-3e53-4d29-c32d-8bfa06690c85"
      },
      "execution_count": null,
      "outputs": [
        {
          "output_type": "stream",
          "name": "stdout",
          "text": [
            "(10, 20, 30, 20, 40, 50)\n",
            "<class 'tuple'>\n"
          ]
        },
        {
          "output_type": "execute_result",
          "data": {
            "text/plain": [
              "3"
            ]
          },
          "metadata": {},
          "execution_count": 6
        }
      ]
    },
    {
      "cell_type": "code",
      "source": [
        "# Set\n",
        "n={1,2,2,3,4,4,5}\n",
        "print(n)\n",
        "print(type(n))\n",
        "\n",
        "n.add(10) # ex)n.add(5) -> 이미 있기 때문에 그대로\n",
        "print(n)"
      ],
      "metadata": {
        "colab": {
          "base_uri": "https://localhost:8080/"
        },
        "id": "WPEIlVDgYBEC",
        "outputId": "0bd0eccf-37ea-4827-c3b4-02e3edc77373"
      },
      "execution_count": null,
      "outputs": [
        {
          "output_type": "stream",
          "name": "stdout",
          "text": [
            "{1, 2, 3, 4, 5}\n",
            "<class 'set'>\n",
            "{1, 2, 3, 4, 5, 10}\n"
          ]
        }
      ]
    },
    {
      "cell_type": "code",
      "source": [
        "# Dictionary\n",
        "n={'A':1,'B':2, 'C':3, 'D':4, 'E':5}\n",
        "print(n)\n",
        "print(type(n))\n",
        "\n",
        "#print(n['X']) 있는 키만 사용 없을시 에러\n",
        "print(n.get('X')) # get 메소드 사용 시 에러X -> none\n",
        "print(n.keys()) # result-> key값만 리스트로 보여줌\n",
        "print(n.values())\n",
        "print(n.items()) # result-> 리스트 안에 튜플 안에 키&값"
      ],
      "metadata": {
        "colab": {
          "base_uri": "https://localhost:8080/"
        },
        "id": "VGHYYtgkYbQm",
        "outputId": "fa39a199-9c6e-4a6c-db8a-9ddb1da3b97d"
      },
      "execution_count": null,
      "outputs": [
        {
          "output_type": "stream",
          "name": "stdout",
          "text": [
            "{'A': 1, 'B': 2, 'C': 3, 'D': 4, 'E': 5}\n",
            "<class 'dict'>\n",
            "None\n",
            "dict_keys(['A', 'B', 'C', 'D', 'E'])\n",
            "dict_values([1, 2, 3, 4, 5])\n",
            "dict_items([('A', 1), ('B', 2), ('C', 3), ('D', 4), ('E', 5)])\n"
          ]
        }
      ]
    },
    {
      "cell_type": "code",
      "source": [
        "# list, tuple, set, dictionary --> iterable; iterate 순환\n",
        "\n",
        "n= {'A':1, 'B':2, 'C':3, 'D':4, 'E':5}\n",
        "\n",
        "for i in n:\n",
        "  print(n[i])\n",
        "\n",
        "  #for x in n:\n",
        "  #print (n{x})"
      ],
      "metadata": {
        "colab": {
          "base_uri": "https://localhost:8080/"
        },
        "id": "bIThonGqkN5l",
        "outputId": "0a1c2abe-c498-487d-95b8-7d4d5c0ca6fa"
      },
      "execution_count": null,
      "outputs": [
        {
          "output_type": "stream",
          "name": "stdout",
          "text": [
            "1\n",
            "2\n",
            "3\n",
            "4\n",
            "5\n"
          ]
        }
      ]
    }
  ]
}