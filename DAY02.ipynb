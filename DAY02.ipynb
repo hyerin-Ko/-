{
  "nbformat": 4,
  "nbformat_minor": 0,
  "metadata": {
    "colab": {
      "name": "DAY02.ipynb",
      "provenance": [],
      "collapsed_sections": [],
      "authorship_tag": "ABX9TyOAem6Z3SMqv1P5Z780kJCD",
      "include_colab_link": true
    },
    "kernelspec": {
      "name": "python3",
      "display_name": "Python 3"
    },
    "language_info": {
      "name": "python"
    }
  },
  "cells": [
    {
      "cell_type": "markdown",
      "metadata": {
        "id": "view-in-github",
        "colab_type": "text"
      },
      "source": [
        "<a href=\"https://colab.research.google.com/github/hyerin-Ko/-/blob/main/DAY02.ipynb\" target=\"_parent\"><img src=\"https://colab.research.google.com/assets/colab-badge.svg\" alt=\"Open In Colab\"/></a>"
      ]
    },
    {
      "cell_type": "code",
      "execution_count": null,
      "metadata": {
        "colab": {
          "base_uri": "https://localhost:8080/"
        },
        "id": "Qwm8eAETZYfK",
        "outputId": "5b51eaa9-f3b9-4d62-86fe-1ec02a792ae8"
      },
      "outputs": [
        {
          "output_type": "stream",
          "name": "stdout",
          "text": [
            "False\n",
            "False\n",
            "True\n",
            "True\n"
          ]
        }
      ],
      "source": [
        "n=3\n",
        "m=5\n",
        "\n",
        "print(n==m)\n",
        "print(n>m)\n",
        "print(n<m)\n",
        "print(n!=m) # != -> 같지않다\n"
      ]
    },
    {
      "cell_type": "code",
      "source": [
        "if n==m: #n값과 m값이 같다면 실행\n",
        "   print(\"두 값이 같습니다.\")\n",
        "else:\n",
        "  print(\"두 값이 다릅니다.\")\n",
        "\n",
        "if n<=m:\n",
        "  print(\"n이 m보다 작거나 같습니다.\")\n",
        "elif n%3==0:\n",
        "  print(\"n은 3의 배수입니다.\") ### n이 3의 배수이지만 첫번째 if구문이 참이기 때문에 두번째 구문 실행X\n",
        "else:\n",
        "  print(\"마지막 else.\") "
      ],
      "metadata": {
        "colab": {
          "base_uri": "https://localhost:8080/"
        },
        "id": "GU9gEizWaMFY",
        "outputId": "a1bca99c-8bbf-4e75-e56c-9c43e335c1dc"
      },
      "execution_count": null,
      "outputs": [
        {
          "output_type": "stream",
          "name": "stdout",
          "text": [
            "두 값이 다릅니다.\n",
            "n이 m보다 작거나 같습니다.\n"
          ]
        }
      ]
    },
    {
      "cell_type": "code",
      "source": [
        "x=[1,2,3]\n",
        "\n",
        "if 3 in x:\n",
        "  print(\"리스트에 3이 있습니다.\")\n",
        "if 5 not in [3,2,1]:\n",
        "  print(\"리스트에 5가 없습니다.\")"
      ],
      "metadata": {
        "colab": {
          "base_uri": "https://localhost:8080/"
        },
        "id": "UpSzIujAbmUQ",
        "outputId": "27fcd21a-540a-4ff9-ea92-16a55f456116"
      },
      "execution_count": null,
      "outputs": [
        {
          "output_type": "stream",
          "name": "stdout",
          "text": [
            "리스트에 3이 있습니다.\n",
            "리스트에 5가 없습니다.\n"
          ]
        }
      ]
    },
    {
      "cell_type": "code",
      "source": [
        "n=3\n",
        "\n",
        "while n>0:\n",
        "  print(n)\n",
        "  n=n-1\n",
        "  \n",
        "y=[1,2,3]\n",
        "while 3 in y:\n",
        "  print('3이 세트 y에 있습니다.')\n",
        "  y.remove(3)"
      ],
      "metadata": {
        "colab": {
          "base_uri": "https://localhost:8080/"
        },
        "id": "cqeVJJ62cPaT",
        "outputId": "82909296-eb88-4a49-eb98-19d7d5a9ba9d"
      },
      "execution_count": null,
      "outputs": [
        {
          "output_type": "stream",
          "name": "stdout",
          "text": [
            "3\n",
            "2\n",
            "1\n",
            "3이 세트 y에 있습니다.\n"
          ]
        }
      ]
    },
    {
      "cell_type": "code",
      "source": [
        "x= [1,2,3,4,5]\n",
        "z= []\n",
        "\n",
        "for n in x:\n",
        " # print(n**2) # n제곱 \n",
        "  z.append(n**2)\n",
        "\n",
        "print(z)"
      ],
      "metadata": {
        "id": "UZl9PhXddXWR"
      },
      "execution_count": null,
      "outputs": []
    },
    {
      "cell_type": "code",
      "source": [
        "x= [3,5]\n",
        "\n",
        "z=[]\n",
        "\n",
        "for n in x:\n",
        "  z.append(n**2)\n",
        "\n",
        "print(z)"
      ],
      "metadata": {
        "id": "WYgmuIkSeaad"
      },
      "execution_count": null,
      "outputs": []
    },
    {
      "cell_type": "code",
      "source": [
        "x= [1,2,3,4,5]\n",
        "z= [n**2 for n in x] # z 에 n을 넣어줌, for n in x (x에 있는 n을 하나하나 끌어옴)\n",
        "                     # [a**2 for a in x]\n",
        "print(z)"
      ],
      "metadata": {
        "id": "IOi5cVNNhZXE"
      },
      "execution_count": null,
      "outputs": []
    },
    {
      "cell_type": "code",
      "source": [
        "####euler\n",
        "sum_=0;\n",
        "for n in range(1,10):\n",
        "  if n%3==0 or n%5==0:\n",
        "   print(n)\n",
        "   sum_=sum_+n%3\n",
        "\n",
        "print('sum:' ,sum_)"
      ],
      "metadata": {
        "id": "SH7pkQ-QokNg"
      },
      "execution_count": null,
      "outputs": []
    },
    {
      "cell_type": "code",
      "source": [
        ""
      ],
      "metadata": {
        "id": "YDZuKHBepdZn"
      },
      "execution_count": null,
      "outputs": []
    },
    {
      "cell_type": "code",
      "source": [
        "####euler #1-ver2\n",
        "numbers = []\n",
        "for n in range(1,10):\n",
        "  if n%3==0 or n%5==0:\n",
        "   numbers.append(n)\n",
        "\n",
        "\n",
        "print(numbers)\n",
        "print(type(numbers))\n",
        "print(sum(numbers))"
      ],
      "metadata": {
        "id": "NFEG8UD1phNi"
      },
      "execution_count": null,
      "outputs": []
    },
    {
      "cell_type": "code",
      "source": [
        "####euler #1-ver2\n",
        "numbers = []\n",
        "for n in range(1,1000):\n",
        "  if n%3==0 or n%5==0:\n",
        "   numbers.append(n)\n",
        "\n",
        "\n",
        "#print(numbers)\n",
        "number_set=set(numbers)\n",
        "#print(type(number_set))\n",
        "print(sum(number_set))"
      ],
      "metadata": {
        "colab": {
          "base_uri": "https://localhost:8080/"
        },
        "outputId": "b733458a-e7de-4f3c-e159-44c755ad02ee",
        "id": "gpSiWZw7qWon"
      },
      "execution_count": null,
      "outputs": [
        {
          "output_type": "stream",
          "name": "stdout",
          "text": [
            "233168\n"
          ]
        }
      ]
    },
    {
      "cell_type": "code",
      "source": [
        "# [1,2,3] + [4,5,6] = [1,2,3,4,5,6]\n",
        "\n",
        "list_3 = [n for n in range(3,1000,3)]\n",
        "list_5 = [n for n in range(5,1000,5)]\n",
        "set_x = set(list_3 + list_5)\n",
        "#print(set_X)\n",
        "print(sum(set_x))"
      ],
      "metadata": {
        "id": "Jcn835ysv6Oh"
      },
      "execution_count": null,
      "outputs": []
    },
    {
      "cell_type": "code",
      "source": [
        "list1=[n for n in range(10,20)]\n",
        "print(list1)\n",
        "print(list1[1:8:2])\n",
        "print(list1[1:-3]) #뒤에서 3번째"
      ],
      "metadata": {
        "id": "AWPnlzKHriJG"
      },
      "execution_count": null,
      "outputs": []
    },
    {
      "cell_type": "code",
      "source": [
        ""
      ],
      "metadata": {
        "id": "0I5ZWZrwsOo9"
      },
      "execution_count": null,
      "outputs": []
    }
  ]
}